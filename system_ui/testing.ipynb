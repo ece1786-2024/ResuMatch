{
 "cells": [
  {
   "cell_type": "code",
   "execution_count": 12,
   "metadata": {},
   "outputs": [
    {
     "name": "stdout",
     "output_type": "stream",
     "text": [
      "Requirement already satisfied: PyPDF2 in c:\\users\\rafay\\anaconda3\\envs\\ece1786\\lib\\site-packages (3.0.1)\n",
      "Collecting pdfplumber\n",
      "  Downloading pdfplumber-0.11.4-py3-none-any.whl.metadata (41 kB)\n",
      "     ---------------------------------------- 0.0/42.0 kB ? eta -:--:--\n",
      "     --------- ------------------------------ 10.2/42.0 kB ? eta -:--:--\n",
      "     ------------------ ------------------- 20.5/42.0 kB 162.5 kB/s eta 0:00:01\n",
      "     -------------------------------------- 42.0/42.0 kB 291.3 kB/s eta 0:00:00\n",
      "Collecting pdfminer.six==20231228 (from pdfplumber)\n",
      "  Downloading pdfminer.six-20231228-py3-none-any.whl.metadata (4.2 kB)\n",
      "Requirement already satisfied: Pillow>=9.1 in c:\\users\\rafay\\anaconda3\\envs\\ece1786\\lib\\site-packages (from pdfplumber) (10.3.0)\n",
      "Collecting pypdfium2>=4.18.0 (from pdfplumber)\n",
      "  Downloading pypdfium2-4.30.0-py3-none-win_amd64.whl.metadata (48 kB)\n",
      "     ---------------------------------------- 0.0/48.5 kB ? eta -:--:--\n",
      "     ---------------------------------------- 48.5/48.5 kB 1.2 MB/s eta 0:00:00\n",
      "Requirement already satisfied: charset-normalizer>=2.0.0 in c:\\users\\rafay\\anaconda3\\envs\\ece1786\\lib\\site-packages (from pdfminer.six==20231228->pdfplumber) (2.0.4)\n",
      "Requirement already satisfied: cryptography>=36.0.0 in c:\\users\\rafay\\anaconda3\\envs\\ece1786\\lib\\site-packages (from pdfminer.six==20231228->pdfplumber) (42.0.5)\n",
      "Requirement already satisfied: cffi>=1.12 in c:\\users\\rafay\\anaconda3\\envs\\ece1786\\lib\\site-packages (from cryptography>=36.0.0->pdfminer.six==20231228->pdfplumber) (1.16.0)\n",
      "Requirement already satisfied: pycparser in c:\\users\\rafay\\anaconda3\\envs\\ece1786\\lib\\site-packages (from cffi>=1.12->cryptography>=36.0.0->pdfminer.six==20231228->pdfplumber) (2.21)\n",
      "Downloading pdfplumber-0.11.4-py3-none-any.whl (59 kB)\n",
      "   ---------------------------------------- 0.0/59.2 kB ? eta -:--:--\n",
      "   ---------------------------------------- 59.2/59.2 kB 3.3 MB/s eta 0:00:00\n",
      "Downloading pdfminer.six-20231228-py3-none-any.whl (5.6 MB)\n",
      "   ---------------------------------------- 0.0/5.6 MB ? eta -:--:--\n",
      "   -------- ------------------------------- 1.2/5.6 MB 25.5 MB/s eta 0:00:01\n",
      "   ----------------- ---------------------- 2.4/5.6 MB 25.8 MB/s eta 0:00:01\n",
      "   -------------------------- ------------- 3.7/5.6 MB 26.1 MB/s eta 0:00:01\n",
      "   -------------------------------- ------- 4.6/5.6 MB 26.9 MB/s eta 0:00:01\n",
      "   -------------------------------- ------- 4.6/5.6 MB 26.9 MB/s eta 0:00:01\n",
      "   -------------------------------- ------- 4.6/5.6 MB 26.9 MB/s eta 0:00:01\n",
      "   -------------------------------------- - 5.4/5.6 MB 16.3 MB/s eta 0:00:01\n",
      "   ---------------------------------------- 5.6/5.6 MB 15.6 MB/s eta 0:00:00\n",
      "Downloading pypdfium2-4.30.0-py3-none-win_amd64.whl (2.9 MB)\n",
      "   ---------------------------------------- 0.0/2.9 MB ? eta -:--:--\n",
      "   ------------- -------------------------- 0.9/2.9 MB 19.8 MB/s eta 0:00:01\n",
      "   --------------------------- ------------ 2.0/2.9 MB 21.0 MB/s eta 0:00:01\n",
      "   ---------------------------------------  2.9/2.9 MB 23.0 MB/s eta 0:00:01\n",
      "   ---------------------------------------- 2.9/2.9 MB 18.5 MB/s eta 0:00:00\n",
      "Installing collected packages: pypdfium2, pdfminer.six, pdfplumber\n",
      "Successfully installed pdfminer.six-20231228 pdfplumber-0.11.4 pypdfium2-4.30.0\n"
     ]
    }
   ],
   "source": [
    "!pip install PyPDF2\n",
    "!pip install pdfplumber"
   ]
  },
  {
   "cell_type": "code",
   "execution_count": 7,
   "metadata": {},
   "outputs": [],
   "source": [
    "import gradio as gr\n",
    "import PyPDF2"
   ]
  },
  {
   "cell_type": "code",
   "execution_count": 19,
   "metadata": {},
   "outputs": [
    {
     "name": "stdout",
     "output_type": "stream",
     "text": [
      "Running on local URL:  http://127.0.0.1:7867\n",
      "\n",
      "To create a public link, set `share=True` in `launch()`.\n"
     ]
    },
    {
     "data": {
      "text/html": [
       "<div><iframe src=\"http://127.0.0.1:7867/\" width=\"100%\" height=\"500\" allow=\"autoplay; camera; microphone; clipboard-read; clipboard-write;\" frameborder=\"0\" allowfullscreen></iframe></div>"
      ],
      "text/plain": [
       "<IPython.core.display.HTML object>"
      ]
     },
     "metadata": {},
     "output_type": "display_data"
    },
    {
     "data": {
      "text/plain": []
     },
     "execution_count": 19,
     "metadata": {},
     "output_type": "execute_result"
    }
   ],
   "source": [
    "def process_inputs(pdf_file, location_filter):\n",
    "    if (pdf_file is not None) and (location_filter is not None):\n",
    "        return {\n",
    "            'resume_pdf_path': pdf_file.name,\n",
    "            'location_filter': location_filter,\n",
    "        }    \n",
    "    \n",
    "    return f\"Location filter or Resume Not Provided.\"\n",
    "\n",
    "with gr.Blocks() as demo:\n",
    "    gr.Markdown(\"## Upload PDF and Enter Location\")\n",
    "    \n",
    "    pdf_file_input = gr.File(label=\"Upload PDF File\", file_types=[\".pdf\"])\n",
    "    location_input = gr.Textbox(label=\"Enter Your Desired Location\")\n",
    "    \n",
    "    output = gr.Textbox(label=\"Output\")\n",
    "    \n",
    "    submit_button = gr.Button(\"Submit\")\n",
    "    submit_button.click(\n",
    "        fn=process_inputs,\n",
    "        inputs=[pdf_file_input, location_input],\n",
    "        outputs=output\n",
    "    )\n",
    "\n",
    "# Launch Gradio interface inline in Jupyter Notebook\n",
    "demo.launch(share=False, inline=True)"
   ]
  },
  {
   "cell_type": "code",
   "execution_count": 15,
   "metadata": {},
   "outputs": [],
   "source": [
    "import pdfplumber\n",
    "file_path = r\"C:\\Users\\Rafay\\AppData\\Local\\Temp\\gradio\\005a8a630d8807118adfe262653c550f0abb90e541ad05264438a6a5798ab85b\\Are SPACs Still Alive.pdf\"\n",
    "with pdfplumber.open(file_path) as pdf:\n",
    "    text = ''.join([page.extract_text() for page in pdf.pages])"
   ]
  }
 ],
 "metadata": {
  "kernelspec": {
   "display_name": "ece1786",
   "language": "python",
   "name": "python3"
  },
  "language_info": {
   "codemirror_mode": {
    "name": "ipython",
    "version": 3
   },
   "file_extension": ".py",
   "mimetype": "text/x-python",
   "name": "python",
   "nbconvert_exporter": "python",
   "pygments_lexer": "ipython3",
   "version": "3.10.14"
  }
 },
 "nbformat": 4,
 "nbformat_minor": 2
}
